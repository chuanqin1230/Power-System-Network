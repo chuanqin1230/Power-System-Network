{
 "cells": [
  {
   "cell_type": "code",
   "execution_count": 1,
   "metadata": {},
   "outputs": [],
   "source": [
    "import csv\n",
    "from igraph import *\n",
    "import numpy\n",
    "import matplotlib.pyplot as plt\n",
    "#import louvain\n",
    "import pylab as pl\n",
    "import time"
   ]
  },
  {
   "cell_type": "code",
   "execution_count": 4,
   "metadata": {},
   "outputs": [],
   "source": [
    "graph9bus=Graph() \n",
    "    \n",
    "with open('9busnode.csv','r') as csvfileNode:\n",
    "    csvreaderNode=csv.reader(csvfileNode)\n",
    "    mycsvNode=list(csvreaderNode)\n",
    "    for row in mycsvNode:\n",
    "        graph9bus.add_vertex(name=row[0])\n",
    "\n",
    "SVQ=numpy.zeros((nodeNumber,nodeNumber))\n",
    "with open('9busbranch.csv','r') as csvfileBranch:\n",
    "    csvreaderBranch=csv.reader(csvfileBranch)\n",
    "    mycsvBranch=list(csvreaderBranch)\n",
    "    for row in mycsvBranch:\n",
    "        B=(1/complex(float(row[2]),float(row[3]))).imag\n",
    "        graph9bus.add_edge(row[0],row[1])\n",
    "        SVQ[int(row[0])-1,int(row[1])-1]=-B\n",
    "        SVQ[int(row[1])-1,int(row[0])-1]=-B"
   ]
  },
  {
   "cell_type": "code",
   "execution_count": 5,
   "metadata": {},
   "outputs": [
    {
     "data": {
      "text/plain": [
       "9"
      ]
     },
     "execution_count": 5,
     "metadata": {},
     "output_type": "execute_result"
    }
   ],
   "source": [
    "nodeNumber=graph9bus.vcount()\n",
    "nodeNumber"
   ]
  },
  {
   "cell_type": "code",
   "execution_count": 7,
   "metadata": {},
   "outputs": [
    {
     "name": "stdout",
     "output_type": "stream",
     "text": [
      "Using Lovain: Clustering with 9 elements and 3 clusters\n",
      "[0] 1, 4, 5\n",
      "[1] 2, 8, 9\n",
      "[2] 3, 6, 7\n",
      "0.3333333333333333\n",
      "0.0\n"
     ]
    }
   ],
   "source": [
    "start_time = time.time()\n",
    "clusters=graph9bus.community_multilevel()\n",
    "mod=graph9bus.modularity(clusters)\n",
    "end_time = time.time()\n",
    "print('Using Lovain:',clusters)\n",
    "print(mod)\n",
    "print(end_time - start_time)"
   ]
  },
  {
   "cell_type": "code",
   "execution_count": 8,
   "metadata": {},
   "outputs": [
    {
     "name": "stdout",
     "output_type": "stream",
     "text": [
      "Using Betweeness: Clustering with 9 elements and 3 clusters\n",
      "[0] 1, 4, 9\n",
      "[1] 2, 8\n",
      "[2] 3, 5, 6, 7\n",
      "0.308641975308642\n",
      "0.0\n"
     ]
    }
   ],
   "source": [
    "# using Betweeness\n",
    "start_time = time.time()\n",
    "vd=graph9bus.community_edge_betweenness(clusters=None, directed=True, weights=None)\n",
    "mod=graph9bus.modularity(vd.as_clustering())\n",
    "end_time = time.time()\n",
    "print('Using Betweeness:',vd.as_clustering())\n",
    "print(mod)\n",
    "print(end_time - start_time)"
   ]
  },
  {
   "cell_type": "code",
   "execution_count": 9,
   "metadata": {},
   "outputs": [
    {
     "name": "stdout",
     "output_type": "stream",
     "text": [
      "Using Label propagation Clustering with 9 elements and 3 clusters\n",
      "[0] 1, 4, 9\n",
      "[1] 2, 8\n",
      "[2] 3, 5, 6, 7\n",
      "0.308641975308642\n",
      "0.0\n"
     ]
    }
   ],
   "source": [
    "# using Label propagation\n",
    "start_time = time.time()\n",
    "clusters=graph9bus.community_label_propagation(weights=None, initial=None, fixed=None)\n",
    "mod=graph9bus.modularity(clusters)\n",
    "end_time = time.time()\n",
    "print('Using Label propagation',clusters)\n",
    "print(mod)\n",
    "print(end_time - start_time)"
   ]
  },
  {
   "cell_type": "code",
   "execution_count": 10,
   "metadata": {
    "scrolled": true
   },
   "outputs": [
    {
     "name": "stdout",
     "output_type": "stream",
     "text": [
      "number of nodes: 9\n",
      "number of edges: 9\n",
      "Whether the graph is weighted: False\n",
      "Whether the graph is directed: False\n",
      "Whether the graph is connected: True\n",
      "The Maximum degree: 3\n",
      "Average path length 2.3333333333333335\n",
      "The diameter: 4\n",
      "The local clustering coefficient: [nan, nan, nan, 0.0, 0.0, 0.0, 0.0, 0.0, 0.0]\n",
      "The global clustering coefficient: 0.0\n",
      "The eigenvectors centrality:\n",
      "The eigenvalues: [9.623085442103884e-17, 0.4679111137620436, 0.46791111376204475, 1.2679491924311226, 1.6527036446661392, 1.6527036446661394, 3.8793852415718204, 3.879385241571821, 4.73205080756887]\n",
      "The degree distribution:\n",
      "N = 9, mean +- sd: 2.0000 +- 0.8660\n",
      "[1, 2): *** (3)\n",
      "[2, 3): *** (3)\n",
      "[3, 4): *** (3)\n"
     ]
    }
   ],
   "source": [
    "print('number of nodes:', graph9bus.vcount())\n",
    "print('number of edges:', graph9bus.ecount())\n",
    "print('Whether the graph is weighted:', graph9bus.is_weighted())\n",
    "print('Whether the graph is directed:', graph9bus.is_directed())\n",
    "print('Whether the graph is connected:', graph9bus.is_connected())\n",
    "\"\"\"print('Number of strong connected components:', graph9bus.clusters())\"\"\"\n",
    "print('The Maximum degree:', graph9bus.maxdegree())\n",
    "print('Average path length', graph9bus.average_path_length(directed=False, unconn=False))\n",
    "print('The diameter:', graph9bus.diameter(directed=False, unconn=False, weights=None))\n",
    "print('The local clustering coefficient:', graph9bus.transitivity_local_undirected(vertices=None, mode=\"nan\", weights=None))\n",
    "print('The global clustering coefficient:', graph9bus.transitivity_undirected(mode=\"nan\"))\n",
    "print('The eigenvectors centrality:')\n",
    "\n",
    "\n",
    "laplacian = graph9bus.laplacian()\n",
    "[w,v] = numpy.linalg.eig(laplacian)\n",
    "sorted_w = sorted(w)\n",
    "print('The eigenvalues:', sorted_w)\n",
    "\n",
    "dist = graph9bus.degree_distribution()\n",
    "print('The degree distribution:')\n",
    "print(dist)"
   ]
  },
  {
   "cell_type": "code",
   "execution_count": 11,
   "metadata": {
    "scrolled": true
   },
   "outputs": [
    {
     "data": {
      "image/svg+xml": [
       "<?xml version=\"1.0\" encoding=\"UTF-8\"?>\n",
       "<svg xmlns=\"http://www.w3.org/2000/svg\" xmlns:xlink=\"http://www.w3.org/1999/xlink\" width=\"600pt\" height=\"600pt\" viewBox=\"0 0 600 600\" version=\"1.1\">\n",
       "<g id=\"surface8\">\n",
       "<rect x=\"0\" y=\"0\" width=\"600\" height=\"600\" style=\"fill:rgb(100%,100%,100%);fill-opacity:1;stroke:none;\"/>\n",
       "<path style=\"fill:none;stroke-width:1;stroke-linecap:butt;stroke-linejoin:miter;stroke:rgb(26.666667%,26.666667%,26.666667%);stroke-opacity:1;stroke-miterlimit:10;\" d=\"M 580 580 L 483.832031 450.171875 \"/>\n",
       "<path style=\"fill:none;stroke-width:1;stroke-linecap:butt;stroke-linejoin:miter;stroke:rgb(26.666667%,26.666667%,26.666667%);stroke-opacity:1;stroke-miterlimit:10;\" d=\"M 483.832031 450.171875 L 299.496094 456.257813 \"/>\n",
       "<path style=\"fill:none;stroke-width:1;stroke-linecap:butt;stroke-linejoin:miter;stroke:rgb(26.666667%,26.666667%,26.666667%);stroke-opacity:1;stroke-miterlimit:10;\" d=\"M 299.496094 456.257813 L 193.335938 320.847656 \"/>\n",
       "<path style=\"fill:none;stroke-width:1;stroke-linecap:butt;stroke-linejoin:miter;stroke:rgb(26.666667%,26.666667%,26.666667%);stroke-opacity:1;stroke-miterlimit:10;\" d=\"M 20 330.695313 L 193.335938 320.847656 \"/>\n",
       "<path style=\"fill:none;stroke-width:1;stroke-linecap:butt;stroke-linejoin:miter;stroke:rgb(26.666667%,26.666667%,26.666667%);stroke-opacity:1;stroke-miterlimit:10;\" d=\"M 193.335938 320.847656 L 279.628906 174.5 \"/>\n",
       "<path style=\"fill:none;stroke-width:1;stroke-linecap:butt;stroke-linejoin:miter;stroke:rgb(26.666667%,26.666667%,26.666667%);stroke-opacity:1;stroke-miterlimit:10;\" d=\"M 279.628906 174.5 L 463.351563 159.675781 \"/>\n",
       "<path style=\"fill:none;stroke-width:1;stroke-linecap:butt;stroke-linejoin:miter;stroke:rgb(26.666667%,26.666667%,26.666667%);stroke-opacity:1;stroke-miterlimit:10;\" d=\"M 540.519531 20 L 463.351563 159.675781 \"/>\n",
       "<path style=\"fill:none;stroke-width:1;stroke-linecap:butt;stroke-linejoin:miter;stroke:rgb(26.666667%,26.666667%,26.666667%);stroke-opacity:1;stroke-miterlimit:10;\" d=\"M 463.351563 159.675781 L 561.390625 299.9375 \"/>\n",
       "<path style=\"fill:none;stroke-width:1;stroke-linecap:butt;stroke-linejoin:miter;stroke:rgb(26.666667%,26.666667%,26.666667%);stroke-opacity:1;stroke-miterlimit:10;\" d=\"M 483.832031 450.171875 L 561.390625 299.9375 \"/>\n",
       "<path style=\"fill-rule:nonzero;fill:rgb(100%,0%,0%);fill-opacity:1;stroke-width:1;stroke-linecap:butt;stroke-linejoin:miter;stroke:rgb(0%,0%,0%);stroke-opacity:1;stroke-miterlimit:10;\" d=\"M 590 580 C 590 585.523438 585.523438 590 580 590 C 574.476563 590 570 585.523438 570 580 C 570 574.476563 574.476563 570 580 570 C 585.523438 570 590 574.476563 590 580 \"/>\n",
       "<path style=\"fill-rule:nonzero;fill:rgb(100%,0%,0%);fill-opacity:1;stroke-width:1;stroke-linecap:butt;stroke-linejoin:miter;stroke:rgb(0%,0%,0%);stroke-opacity:1;stroke-miterlimit:10;\" d=\"M 550.519531 20 C 550.519531 25.523438 546.039063 30 540.519531 30 C 534.996094 30 530.519531 25.523438 530.519531 20 C 530.519531 14.476563 534.996094 10 540.519531 10 C 546.039063 10 550.519531 14.476563 550.519531 20 \"/>\n",
       "<path style=\"fill-rule:nonzero;fill:rgb(100%,0%,0%);fill-opacity:1;stroke-width:1;stroke-linecap:butt;stroke-linejoin:miter;stroke:rgb(0%,0%,0%);stroke-opacity:1;stroke-miterlimit:10;\" d=\"M 30 330.695313 C 30 336.214844 25.523438 340.695313 20 340.695313 C 14.476563 340.695313 10 336.214844 10 330.695313 C 10 325.171875 14.476563 320.695313 20 320.695313 C 25.523438 320.695313 30 325.171875 30 330.695313 \"/>\n",
       "<path style=\"fill-rule:nonzero;fill:rgb(100%,0%,0%);fill-opacity:1;stroke-width:1;stroke-linecap:butt;stroke-linejoin:miter;stroke:rgb(0%,0%,0%);stroke-opacity:1;stroke-miterlimit:10;\" d=\"M 493.832031 450.171875 C 493.832031 455.695313 489.355469 460.171875 483.832031 460.171875 C 478.308594 460.171875 473.832031 455.695313 473.832031 450.171875 C 473.832031 444.648438 478.308594 440.171875 483.832031 440.171875 C 489.355469 440.171875 493.832031 444.648438 493.832031 450.171875 \"/>\n",
       "<path style=\"fill-rule:nonzero;fill:rgb(100%,0%,0%);fill-opacity:1;stroke-width:1;stroke-linecap:butt;stroke-linejoin:miter;stroke:rgb(0%,0%,0%);stroke-opacity:1;stroke-miterlimit:10;\" d=\"M 309.496094 456.257813 C 309.496094 461.78125 305.019531 466.257813 299.496094 466.257813 C 293.972656 466.257813 289.496094 461.78125 289.496094 456.257813 C 289.496094 450.738281 293.972656 446.257813 299.496094 446.257813 C 305.019531 446.257813 309.496094 450.738281 309.496094 456.257813 \"/>\n",
       "<path style=\"fill-rule:nonzero;fill:rgb(100%,0%,0%);fill-opacity:1;stroke-width:1;stroke-linecap:butt;stroke-linejoin:miter;stroke:rgb(0%,0%,0%);stroke-opacity:1;stroke-miterlimit:10;\" d=\"M 203.335938 320.847656 C 203.335938 326.367188 198.855469 330.847656 193.335938 330.847656 C 187.8125 330.847656 183.335938 326.367188 183.335938 320.847656 C 183.335938 315.324219 187.8125 310.847656 193.335938 310.847656 C 198.855469 310.847656 203.335938 315.324219 203.335938 320.847656 \"/>\n",
       "<path style=\"fill-rule:nonzero;fill:rgb(100%,0%,0%);fill-opacity:1;stroke-width:1;stroke-linecap:butt;stroke-linejoin:miter;stroke:rgb(0%,0%,0%);stroke-opacity:1;stroke-miterlimit:10;\" d=\"M 289.628906 174.5 C 289.628906 180.023438 285.152344 184.5 279.628906 184.5 C 274.109375 184.5 269.628906 180.023438 269.628906 174.5 C 269.628906 168.976563 274.109375 164.5 279.628906 164.5 C 285.152344 164.5 289.628906 168.976563 289.628906 174.5 \"/>\n",
       "<path style=\"fill-rule:nonzero;fill:rgb(100%,0%,0%);fill-opacity:1;stroke-width:1;stroke-linecap:butt;stroke-linejoin:miter;stroke:rgb(0%,0%,0%);stroke-opacity:1;stroke-miterlimit:10;\" d=\"M 473.351563 159.675781 C 473.351563 165.199219 468.875 169.675781 463.351563 169.675781 C 457.828125 169.675781 453.351563 165.199219 453.351563 159.675781 C 453.351563 154.152344 457.828125 149.675781 463.351563 149.675781 C 468.875 149.675781 473.351563 154.152344 473.351563 159.675781 \"/>\n",
       "<path style=\"fill-rule:nonzero;fill:rgb(100%,0%,0%);fill-opacity:1;stroke-width:1;stroke-linecap:butt;stroke-linejoin:miter;stroke:rgb(0%,0%,0%);stroke-opacity:1;stroke-miterlimit:10;\" d=\"M 571.390625 299.9375 C 571.390625 305.457031 566.914063 309.9375 561.390625 309.9375 C 555.867188 309.9375 551.390625 305.457031 551.390625 299.9375 C 551.390625 294.414063 555.867188 289.9375 561.390625 289.9375 C 566.914063 289.9375 571.390625 294.414063 571.390625 299.9375 \"/>\n",
       "</g>\n",
       "</svg>\n"
      ],
      "text/plain": [
       "<igraph.drawing.Plot at 0x14513df6710>"
      ]
     },
     "execution_count": 11,
     "metadata": {
      "image/svg+xml": {
       "isolated": true
      }
     },
     "output_type": "execute_result"
    }
   ],
   "source": [
    "# graph9bus.plot()\n",
    "layout = graph9bus.layout(\"kk\")\n",
    "plot(graph9bus, layout = layout)"
   ]
  },
  {
   "cell_type": "code",
   "execution_count": null,
   "metadata": {},
   "outputs": [],
   "source": []
  },
  {
   "cell_type": "code",
   "execution_count": 21,
   "metadata": {},
   "outputs": [],
   "source": [
    "graph9bus.save('IEEE9bus.gml')"
   ]
  },
  {
   "cell_type": "code",
   "execution_count": null,
   "metadata": {},
   "outputs": [],
   "source": []
  },
  {
   "cell_type": "code",
   "execution_count": null,
   "metadata": {},
   "outputs": [],
   "source": [
    "graph9bus.save('IEEE9bus.gml')"
   ]
  }
 ],
 "metadata": {
  "kernelspec": {
   "display_name": "Python 3",
   "language": "python",
   "name": "python3"
  },
  "language_info": {
   "codemirror_mode": {
    "name": "ipython",
    "version": 3
   },
   "file_extension": ".py",
   "mimetype": "text/x-python",
   "name": "python",
   "nbconvert_exporter": "python",
   "pygments_lexer": "ipython3",
   "version": "3.7.3"
  }
 },
 "nbformat": 4,
 "nbformat_minor": 2
}
